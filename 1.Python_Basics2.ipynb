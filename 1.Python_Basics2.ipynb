{
 "cells": [
  {
   "cell_type": "markdown",
   "metadata": {
    "id": "z1Nyi_zSDvK2"
   },
   "source": [
    "1. What is Python, and why is it popular?\n",
    "   - Python is a popular & interpreted programming language.\n",
    "   \n",
    "   The reason for why Python is Popular are\n",
    "   - Simplicity, Readability\n",
    "   - have a large, active, and supportive community\n",
    "   - has a vast and continuously growing ecosystem of libraries. The total numbers of Python are more than 137000 libraries.\n",
    "   - Used in Integration and Automation\n",
    "\n",
    "2. What is an interpreter in Python?\n",
    "   - Instead of converting the entire code into machine code all at once (like a compiler does), the Python interpreter translates the Python code into an intermediate form and executes it directly.\n",
    "\n",
    "3. What are pre-defined keywords in Python?\n",
    "   - In Python, predefined keywords are reserved words that have a specific meaning in the Python language.\n",
    "   - e.g. int, if, else, is, for etc.\n",
    "\n",
    "4. Can keywords be used as variable names?\n",
    "   - NO\n",
    "\n",
    "5. What is mutability in Python?\n",
    "   - Mutability in Python refers to the ability of an object to be modified after it has been created.\n",
    "\n",
    "6. Why are lists mutable, but tuples are immutable?\n",
    "   - In Python, lists and tuples are both ordered collections of items, but they differ significantly in terms of mutability.\n",
    "   - Lists:\n",
    "     - Designed for flexibility and dynamic data manipulation.\n",
    "     - Often used in scenarios where data needs to be frequently updated or reordered.\n",
    "   - Tuples:\n",
    "     - Designed for efficiency and data integrity.\n",
    "     - Often used to represent fixed data structures like configuration settings, coordinates, or return values from functions\n",
    "\n",
    "7. What is the difference between “==” and “is” operators in Python?\n",
    "   - “==” is a comparition operator and \"is\" is Identity operator.\n",
    "\n",
    "8. What are logical operators in Python?\n",
    "   - These operators allow users to perform logical operations and return True or False based on the conditions provided.\n",
    "   - Three main Logical Operators\n",
    "     - and\n",
    "     - or\n",
    "     - not\n",
    "9. What is type casting in Python?\n",
    "   - In Python it refers to the process of converting one data type into another\n",
    "\n",
    "10. What is the difference between implicit and explicit type casting?\n",
    "    - In implicit type casting, Python automatically converts one data type to another when required, without needing any specific instructions from the programmer. This generally happens when converting a lower precision type to a higher precision type (e.g., from int to float).\n",
    "    - Explicit type casting happens when user, as a programmer, specifically tell Python to convert a value from one data type to another using built-in functions.\n",
    "\n",
    "    We can explicitly cast types using functions like:   \n",
    "    int(): Converts a value to an integer.\n",
    "    float(): Converts a value to a float.\n",
    "    str(): Converts a value to a string.\n",
    "\n",
    "11. What is the purpose of conditional statements in Python?\n",
    "    - Conditional statements in Python are used to control the flow of execution based on specific conditions. It allow users/programmers to make decisions within our program, executing different code blocks depending on whether a certain condition is true or false.\n",
    "\n",
    "12.  How does the elif statement work?\n",
    "     - The elif statement in Python is a short form of \"else if\". It's used to check for multiple conditions sequentially after an initial if statement.\n",
    "\n",
    "13. What is the difference between for and while loops?\n",
    "    - In Python, both for and while loops are used to repeatedly execute a block of code. However, they differ in their approach and the conditions under which they iterate.\n",
    "\n",
    "    For Loop:\n",
    "    - Iterates over a sequence: It's ideal for iterating over items in a sequence (like a list, tuple, or string).\n",
    "    - Fixed number of iterations: The number of iterations is determined by the length of the sequence.\n",
    "    \n",
    "    While Loop:\n",
    "\n",
    "    - Repeats as long as a condition is True: It continues to execute as long as a specified condition remains true.\n",
    "    - Indefinite number of iterations: The number of iterations is not predetermined.\n",
    "\n",
    "14. Describe a scenario where a while loop is more suitable than a for loop.\n",
    "    - Scenario: User Input Validation\n",
    "\n",
    "     A common scenario where a while loop is more suitable than a for loop is when you need to repeatedly prompt a user for input until they provide a valid response."
   ]
  },
  {
   "cell_type": "code",
   "execution_count": null,
   "metadata": {
    "colab": {
     "base_uri": "https://localhost:8080/"
    },
    "id": "JBEYcsTlWdUV",
    "outputId": "d7b9c2f2-c6fc-4e3a-f36b-8c460afa493f"
   },
   "outputs": [
    {
     "name": "stdout",
     "output_type": "stream",
     "text": [
      "Hello, World!\n"
     ]
    }
   ],
   "source": [
    "# 1. Write a Python program to print \"Hello, World!\"\n",
    "print(\"Hello, World!\")"
   ]
  },
  {
   "cell_type": "code",
   "execution_count": null,
   "metadata": {
    "colab": {
     "base_uri": "https://localhost:8080/"
    },
    "id": "ZhP6lvu6W0je",
    "outputId": "f1d19117-70b2-4ca9-dc14-f3adf704bc78"
   },
   "outputs": [
    {
     "name": "stdout",
     "output_type": "stream",
     "text": [
      "Name: Soibam Anando Singh\n",
      "Age: 42\n"
     ]
    }
   ],
   "source": [
    "# 2. Write a Python program that displays your name and age.\n",
    "name = \"Soibam Anando Singh\"\n",
    "age = 42\n",
    "\n",
    "print(\"Name:\", name)\n",
    "print(\"Age:\", age)"
   ]
  },
  {
   "cell_type": "code",
   "execution_count": null,
   "metadata": {
    "colab": {
     "base_uri": "https://localhost:8080/"
    },
    "id": "zh5kJEPQopFB",
    "outputId": "92b0d99c-9445-46ab-8d2e-c53d03444e46"
   },
   "outputs": [
    {
     "name": "stdout",
     "output_type": "stream",
     "text": [
      "Python Keywords:\n",
      "['False', 'None', 'True', 'and', 'as', 'assert', 'async', 'await', 'break', 'class', 'continue', 'def', 'del', 'elif', 'else', 'except', 'finally', 'for', 'from', 'global', 'if', 'import', 'in', 'is', 'lambda', 'nonlocal', 'not', 'or', 'pass', 'raise', 'return', 'try', 'while', 'with', 'yield']\n"
     ]
    }
   ],
   "source": [
    "# 3. Write code to print all the pre-defined keywords in Python using the keyword libraryimport keyword\n",
    "import keyword\n",
    "\n",
    "# Print all the pre-defined keywords in Python\n",
    "print(\"Python Keywords:\")\n",
    "print(keyword.kwlist)\n"
   ]
  },
  {
   "cell_type": "code",
   "execution_count": null,
   "metadata": {
    "colab": {
     "base_uri": "https://localhost:8080/"
    },
    "id": "quqZnBdVo73C",
    "outputId": "f7906775-6f47-4d1a-a60e-e7215f5736c9"
   },
   "outputs": [
    {
     "name": "stdout",
     "output_type": "stream",
     "text": [
      "False is a Python keyword.\n"
     ]
    }
   ],
   "source": [
    "# 4. Write a program that checks if a given word is a Python keywordword = input(\"Enter a word: \")\n",
    "import keyword\n",
    "\n",
    "word = \"False\"\n",
    "if word in keyword.kwlist:\n",
    "  print(f\"{word} is a Python keyword.\")\n",
    "else:\n",
    "  print(f\"{word} is not a Python keyword.\")"
   ]
  },
  {
   "cell_type": "code",
   "execution_count": null,
   "metadata": {
    "colab": {
     "base_uri": "https://localhost:8080/",
     "height": 228
    },
    "id": "glRjqjWCp07m",
    "outputId": "420e8178-4680-4bb2-b5df-069f3106f15d"
   },
   "outputs": [
    {
     "name": "stdout",
     "output_type": "stream",
     "text": [
      "Original List: [1, 2, 3, 4, 5]\n",
      "Modified List: [1, 2, 100, 4, 5]\n",
      "Original Tuple: (1, 2, 3, 4, 5)\n"
     ]
    },
    {
     "ename": "TypeError",
     "evalue": "'tuple' object does not support item assignment",
     "output_type": "error",
     "traceback": [
      "\u001b[0;31m---------------------------------------------------------------------------\u001b[0m",
      "\u001b[0;31mTypeError\u001b[0m                                 Traceback (most recent call last)",
      "\u001b[0;32m<ipython-input-19-944f692fdeed>\u001b[0m in \u001b[0;36m<cell line: 9>\u001b[0;34m()\u001b[0m\n\u001b[1;32m      7\u001b[0m \u001b[0mmy_tuple\u001b[0m \u001b[0;34m=\u001b[0m \u001b[0;34m(\u001b[0m\u001b[0;36m1\u001b[0m\u001b[0;34m,\u001b[0m \u001b[0;36m2\u001b[0m\u001b[0;34m,\u001b[0m \u001b[0;36m3\u001b[0m\u001b[0;34m,\u001b[0m \u001b[0;36m4\u001b[0m\u001b[0;34m,\u001b[0m \u001b[0;36m5\u001b[0m\u001b[0;34m)\u001b[0m\u001b[0;34m\u001b[0m\u001b[0;34m\u001b[0m\u001b[0m\n\u001b[1;32m      8\u001b[0m \u001b[0mprint\u001b[0m\u001b[0;34m(\u001b[0m\u001b[0;34m\"Original Tuple:\"\u001b[0m\u001b[0;34m,\u001b[0m \u001b[0mmy_tuple\u001b[0m\u001b[0;34m)\u001b[0m\u001b[0;34m\u001b[0m\u001b[0;34m\u001b[0m\u001b[0m\n\u001b[0;32m----> 9\u001b[0;31m \u001b[0mmy_tuple\u001b[0m\u001b[0;34m[\u001b[0m\u001b[0;36m2\u001b[0m\u001b[0;34m]\u001b[0m \u001b[0;34m=\u001b[0m \u001b[0;36m100\u001b[0m\u001b[0;34m\u001b[0m\u001b[0;34m\u001b[0m\u001b[0m\n\u001b[0m",
      "\u001b[0;31mTypeError\u001b[0m: 'tuple' object does not support item assignment"
     ]
    }
   ],
   "source": [
    "# 5. Create a list and tuple in Python, and demonstrate how attempting to change an element works differently for each\n",
    "my_list = [1, 2, 3, 4, 5]\n",
    "print(\"Original List:\", my_list)\n",
    "my_list[2] = 100\n",
    "print(\"Modified List:\", my_list)\n",
    "\n",
    "my_tuple = (1, 2, 3, 4, 5)\n",
    "print(\"Original Tuple:\", my_tuple)\n",
    "my_tuple[2] = 100\n"
   ]
  },
  {
   "cell_type": "code",
   "execution_count": null,
   "metadata": {
    "colab": {
     "base_uri": "https://localhost:8080/"
    },
    "id": "QWN4oEKopzbX",
    "outputId": "7db02055-cf0e-4f52-ccb7-fcff33879f95"
   },
   "outputs": [
    {
     "name": "stdout",
     "output_type": "stream",
     "text": [
      "[1, 2, 3, 4]\n",
      "(1, 2, 3)\n"
     ]
    }
   ],
   "source": [
    "# 6. Write a function to demonstrate the behavior of mutable and immutable arguments\n",
    "\n",
    "def modify_list(my_list):\n",
    "  \"\"\"Modifies the input list by appending an element.\n",
    "\n",
    "  Args:\n",
    "    my_list: The input list.\n",
    "  \"\"\"\n",
    "\n",
    "  my_list.append(4)\n",
    "\n",
    "def modify_tuple(my_tuple):\n",
    "  \"\"\"Attempts to modify the input tuple by appending an element.\n",
    "\n",
    "  Args:\n",
    "    my_tuple: The input tuple.\n",
    "  \"\"\"\n",
    "\n",
    "  my_tuple += (5,)\n",
    "\n",
    "# Create a list and a tuple\n",
    "my_list = [1, 2, 3]\n",
    "my_tuple = (1, 2, 3)\n",
    "\n",
    "# Modify the list\n",
    "modify_list(my_list)\n",
    "print(my_list)\n",
    "\n",
    "# Attempt to modify the tuple\n",
    "modify_tuple(my_tuple)\n",
    "print(my_tuple)"
   ]
  },
  {
   "cell_type": "code",
   "execution_count": 1,
   "metadata": {
    "id": "xYHvuRjFtVm6"
   },
   "outputs": [
    {
     "name": "stdin",
     "output_type": "stream",
     "text": [
      "Enter the first number:  6\n",
      "Enter the second number:  7\n"
     ]
    },
    {
     "name": "stdout",
     "output_type": "stream",
     "text": [
      "Select operation:\n",
      "1. Add\n",
      "2. Subtract\n",
      "3. Multiply\n",
      "4. Divide\n"
     ]
    },
    {
     "name": "stdin",
     "output_type": "stream",
     "text": [
      "Enter choice (1/2/3/4):  2\n"
     ]
    },
    {
     "name": "stdout",
     "output_type": "stream",
     "text": [
      "6.0 - 7.0 = -1.0\n"
     ]
    }
   ],
   "source": [
    "# 7. Write a program that performs basic arithmetic operations on two user-input numbers.\n",
    "\n",
    "def arithmetic_calculator():\n",
    "    \"\"\"\n",
    "    A function that takes two numbers as input from the user and performs\n",
    "    basic arithmetic operations (addition, subtraction, multiplication, and division).\n",
    "    \"\"\"\n",
    "    try:\n",
    "        num1 = float(input(\"Enter the first number: \"))\n",
    "        num2 = float(input(\"Enter the second number: \"))\n",
    "    except ValueError:\n",
    "        print(\"Invalid input. Please enter numbers only.\")\n",
    "        return\n",
    "\n",
    "    print(\"Select operation:\")\n",
    "    print(\"1. Add\")\n",
    "    print(\"2. Subtract\")\n",
    "    print(\"3. Multiply\")\n",
    "    print(\"4. Divide\")\n",
    "\n",
    "    choice = input(\"Enter choice (1/2/3/4): \")\n",
    "\n",
    "    if choice == '1':\n",
    "        print(num1, \"+\", num2, \"=\", num1 + num2)\n",
    "    elif choice == '2':\n",
    "        print(num1, \"-\", num2, \"=\", num1 - num2)\n",
    "    elif choice == '3':\n",
    "        print(num1, \"*\", num2, \"=\", num1 * num2)\n",
    "    elif choice == '4':\n",
    "        if num2 == 0:\n",
    "            print(\"Cannot divide by zero.\")\n",
    "        else:\n",
    "            print(num1, \"/\", num2, \"=\", num1 / num2)\n",
    "    else:\n",
    "        print(\"Invalid input. Please enter a valid choice.\")\n",
    "\n",
    "# Call the function\n",
    "if __name__ == \"__main__\":\n",
    "    arithmetic_calculator()\n"
   ]
  },
  {
   "cell_type": "code",
   "execution_count": null,
   "metadata": {
    "colab": {
     "base_uri": "https://localhost:8080/"
    },
    "id": "chHZabAztYfX",
    "outputId": "b0b76ce8-1955-4a1b-8ffd-3dd93951255a"
   },
   "outputs": [
    {
     "name": "stdout",
     "output_type": "stream",
     "text": [
      "Both conditions are True\n",
      "At least one condition is True\n",
      "x is not equal to y\n"
     ]
    }
   ],
   "source": [
    "# 8. Write a program to demonstrate the use of logical operators\n",
    "x = 10\n",
    "y = 5\n",
    "\n",
    "# AND operator\n",
    "if x > 5 and y < 10:\n",
    "    print(\"Both conditions are True\")\n",
    "else:\n",
    "    print(\"At least one condition is False\")\n",
    "\n",
    "# OR operator\n",
    "if x < 5 or y > 3:\n",
    "    print(\"At least one condition is True\")\n",
    "else:\n",
    "    print(\"Both conditions are False\")\n",
    "\n",
    "# NOT operator\n",
    "if not (x == y):\n",
    "    print(\"x is not equal to y\")\n",
    "else:\n",
    "    print(\"x is equal to y\")"
   ]
  },
  {
   "cell_type": "code",
   "execution_count": null,
   "metadata": {
    "colab": {
     "base_uri": "https://localhost:8080/"
    },
    "id": "mgQ4ZJswuNWp",
    "outputId": "d147899b-9509-4794-a465-1a76a1654dc6"
   },
   "outputs": [
    {
     "name": "stdout",
     "output_type": "stream",
     "text": [
      "Enter a value: 0\n",
      "Integer: 0\n",
      "Float: 0.0\n",
      "Boolean: False\n"
     ]
    }
   ],
   "source": [
    "# 9. Write a Python program to convert user input from string to integer, float, and boolean types\n",
    "\n",
    "# Get user input\n",
    "user_input = input(\"Enter a value: \")\n",
    "\n",
    "integer_value = int(user_input)\n",
    "float_value = float(user_input)\n",
    "boolean_value = bool(int(user_input))\n",
    "\n",
    "print(\"Integer:\", integer_value)\n",
    "print(\"Float:\", float_value)\n",
    "print(\"Boolean:\", boolean_value)\n"
   ]
  },
  {
   "cell_type": "code",
   "execution_count": null,
   "metadata": {
    "colab": {
     "base_uri": "https://localhost:8080/"
    },
    "id": "9oxPOf0Jxfn6",
    "outputId": "293be95e-7b98-4ef7-aa2c-fbb9e225346f"
   },
   "outputs": [
    {
     "name": "stdout",
     "output_type": "stream",
     "text": [
      "Original list of strings: ['10', '20', '30', '40', '50']\n",
      "List after casting to integers: [10, 20, 30, 40, 50]\n",
      "List after casting to floats: [10.0, 20.0, 30.0, 40.0, 50.0]\n"
     ]
    }
   ],
   "source": [
    "# 10. Write code to demonstrate type casting with list elements\n",
    "\n",
    "# Original list of strings\n",
    "string_list = [\"10\", \"20\", \"30\", \"40\", \"50\"]\n",
    "\n",
    "# Convert all elements in the list from strings to integers\n",
    "int_list = [int(item) for item in string_list]\n",
    "\n",
    "# Convert the integers to float\n",
    "float_list = [float(item) for item in int_list]\n",
    "\n",
    "# Display the results\n",
    "print(\"Original list of strings:\", string_list)\n",
    "print(\"List after casting to integers:\", int_list)\n",
    "print(\"List after casting to floats:\", float_list)\n"
   ]
  },
  {
   "cell_type": "code",
   "execution_count": null,
   "metadata": {
    "colab": {
     "base_uri": "https://localhost:8080/"
    },
    "id": "CKElidxa4yly",
    "outputId": "47e4d553-40e2-406d-d02c-684df01a1733"
   },
   "outputs": [
    {
     "name": "stdout",
     "output_type": "stream",
     "text": [
      "Enter a number: 1000\n",
      "1000.0 is positive\n"
     ]
    }
   ],
   "source": [
    "# 11. Write a program that checks if a number is positive, negative, or zero\n",
    "\n",
    "# Get user input\n",
    "number = float(input(\"Enter a number: \"))\n",
    "\n",
    "if number > 0:\n",
    "    print(number, \"is positive\")\n",
    "elif number < 0:\n",
    "    print(number, \"is negative\")\n",
    "else:\n",
    "    print(number, \"is zero\")\n"
   ]
  },
  {
   "cell_type": "code",
   "execution_count": null,
   "metadata": {
    "colab": {
     "base_uri": "https://localhost:8080/"
    },
    "id": "qoss2tqh5Nvi",
    "outputId": "052bb197-540e-41f5-bfc5-0258a01fd4dc"
   },
   "outputs": [
    {
     "name": "stdout",
     "output_type": "stream",
     "text": [
      "1\n",
      "2\n",
      "3\n",
      "4\n",
      "5\n",
      "6\n",
      "7\n",
      "8\n",
      "9\n",
      "10\n",
      "11\n",
      "12\n",
      "13\n",
      "14\n",
      "15\n",
      "16\n",
      "17\n",
      "18\n",
      "19\n",
      "20\n",
      "21\n",
      "22\n",
      "23\n",
      "24\n",
      "25\n",
      "26\n",
      "27\n",
      "28\n",
      "29\n",
      "30\n",
      "31\n",
      "32\n",
      "33\n",
      "34\n",
      "35\n",
      "36\n",
      "37\n",
      "38\n",
      "39\n",
      "40\n",
      "41\n",
      "42\n",
      "43\n",
      "44\n",
      "45\n",
      "46\n",
      "47\n",
      "48\n",
      "49\n",
      "50\n",
      "51\n",
      "52\n",
      "53\n",
      "54\n",
      "55\n",
      "56\n",
      "57\n",
      "58\n",
      "59\n",
      "60\n",
      "61\n",
      "62\n",
      "63\n",
      "64\n",
      "65\n",
      "66\n",
      "67\n",
      "68\n",
      "69\n",
      "70\n",
      "71\n",
      "72\n",
      "73\n",
      "74\n",
      "75\n",
      "76\n",
      "77\n",
      "78\n",
      "79\n",
      "80\n",
      "81\n",
      "82\n",
      "83\n",
      "84\n",
      "85\n",
      "86\n",
      "87\n",
      "88\n",
      "89\n",
      "90\n",
      "91\n",
      "92\n",
      "93\n",
      "94\n",
      "95\n",
      "96\n",
      "97\n",
      "98\n",
      "99\n",
      "100\n"
     ]
    }
   ],
   "source": [
    "# 12. Write a for loop to print numbers from 1 to 100\n",
    "\n",
    "for i in range(1, 101):\n",
    "  print(i)"
   ]
  },
  {
   "cell_type": "code",
   "execution_count": null,
   "metadata": {
    "colab": {
     "base_uri": "https://localhost:8080/"
    },
    "id": "hm4B3WoE5bl7",
    "outputId": "ca43e8cc-8121-482c-ad33-f07609df8bc4"
   },
   "outputs": [
    {
     "name": "stdout",
     "output_type": "stream",
     "text": [
      "The sum of all even numbers between 1 and 500 is: 62750\n"
     ]
    }
   ],
   "source": [
    "# 13. Write a Python program to find the sum of all even numbers between 1 and 500\n",
    "\n",
    "# Initialize the sum variable\n",
    "sum_even_numbers = 0\n",
    "\n",
    "# Loop through numbers from 1 to 500 and add even numbers to the sum\n",
    "for num in range(2, 501, 2):  # Start from 2, go till 500, with a step of 2 (even numbers only)\n",
    "    sum_even_numbers += num\n",
    "\n",
    "# Print the result\n",
    "print(\"The sum of all even numbers between 1 and 500 is:\", sum_even_numbers)\n"
   ]
  },
  {
   "cell_type": "code",
   "execution_count": null,
   "metadata": {
    "colab": {
     "base_uri": "https://localhost:8080/"
    },
    "id": "flkQTQuJ5zTY",
    "outputId": "81478215-e7c1-43a2-fe4f-b7a221a0c569"
   },
   "outputs": [
    {
     "name": "stdout",
     "output_type": "stream",
     "text": [
      "Enter a string to reverse: hello\n",
      "Reversed string: olleh\n"
     ]
    }
   ],
   "source": [
    "# 14. Write a program to reverse a string using a while loop\n",
    "\n",
    "# Input string\n",
    "input_string = input(\"Enter a string to reverse: \")\n",
    "\n",
    "# Initialize an empty string to store the reversed string\n",
    "reversed_string = \"\"\n",
    "\n",
    "# Initialize an index to the last character of the input string\n",
    "index = len(input_string) - 1\n",
    "\n",
    "# Use a while loop to iterate through the string in reverse order\n",
    "while index >= 0:\n",
    "    # Add the current character to the reversed string\n",
    "    reversed_string += input_string[index]\n",
    "    # Decrement the index to move to the previous character\n",
    "    index -= 1\n",
    "\n",
    "# Print the reversed string\n",
    "print(\"Reversed string:\", reversed_string)\n",
    "\n"
   ]
  },
  {
   "cell_type": "code",
   "execution_count": 47,
   "metadata": {
    "colab": {
     "base_uri": "https://localhost:8080/"
    },
    "id": "CPIxceMC7pQN",
    "outputId": "2b396b02-2076-4e29-f1ff-ba0d4a49ffa1"
   },
   "outputs": [
    {
     "name": "stdout",
     "output_type": "stream",
     "text": [
      "Enter a number to calculate its factorial: 5\n",
      "Factorial is: 120\n"
     ]
    }
   ],
   "source": [
    "# 15. Write a Python program to calculate the factorial of a number provided by the user using a while loop\n",
    "\n",
    "# Get user input\n",
    "num = int(input(\"Enter a number to calculate its factorial: \"))\n",
    "\n",
    "# Initialize variables\n",
    "factorial = 1\n",
    "\n",
    "# Ensure the number is non-negative\n",
    "if num < 0:\n",
    "    print(\"Factorial is not defined for negative numbers.\")\n",
    "else:\n",
    "    # Use a while loop to calculate the factorial\n",
    "    while num > 1:\n",
    "        factorial *= num  # Multiply current number to the factorial\n",
    "        num -= 1  # Decrease the number by 1\n",
    "\n",
    "    # Print the result\n",
    "    print(\"Factorial is:\", factorial)\n"
   ]
  }
 ],
 "metadata": {
  "colab": {
   "provenance": []
  },
  "kernelspec": {
   "display_name": "Python 3 (ipykernel)",
   "language": "python",
   "name": "python3"
  },
  "language_info": {
   "codemirror_mode": {
    "name": "ipython",
    "version": 3
   },
   "file_extension": ".py",
   "mimetype": "text/x-python",
   "name": "python",
   "nbconvert_exporter": "python",
   "pygments_lexer": "ipython3",
   "version": "3.12.7"
  }
 },
 "nbformat": 4,
 "nbformat_minor": 4
}
