{
 "cells": [
  {
   "cell_type": "markdown",
   "metadata": {
    "id": "UorkhSunBuN6"
   },
   "source": [
    "1. What is Python, and why is it popular?\n",
    "   - Python is high level, interpreted programming language known for its simplicity and readability.\n",
    "   -It's popular because:\n",
    "   1)easy syntax\n",
    "   2)Huge library support\n",
    "   3)Used in many fields like DA, DS, Automation, developement etc.\n",
    "2. What is an interpreter in Python?\n",
    "   - An interpreter is a program that executes Python code line by line. It converts high-level code into machine code at run time, allowing immediate execution and debugging.\n",
    "3. What are pre-defined keywords in Python?\n",
    "   - Reserved keyword in Python which user cannot use as variable are pre-defined keywords, eg. For, while, print, else, elif,class etc.\n",
    "4. Can keywords be used as variable names?\n",
    "   - No, python keywords cannot be used as variable names.\n",
    "\n",
    "5. What is mutability in Python?\n",
    "   - Mutability means whether an object can be changed after it's creation.\n",
    "    eg. List, Dictionary and set are mutable\n",
    "6. Why are lists mutable, but tuples are immutable?\n",
    "   - Lists are designed for flexible data which can grow, shrink and made change\n",
    "   while tuples are designed to use fixed data which can improve performance and safety.\n",
    "7. What is the difference between “==” and “is” operators in Python?\n",
    "   - \"==\" are used for check equality\n",
    "    while \"is\" is used for checking memory\n",
    "    eg. if a==9: -> check if a is equal to 9\n",
    "        \n",
    "8. What are logical operators in Python?\n",
    "   - Logical operators are used in Python to combine conditional statements.\n",
    "   eg. AND, OR, NOT\n",
    "9. What is type casting in Python?\n",
    "    - Type casting in python means converting data type of one variale into another.\n",
    "10. What is the difference between implicit and explicit type casting?\n",
    "    - implicit type casting: .When Python convert data type internally then its known as Implicit type casting\n",
    "    -Explicit type casting: When user convert data type externally using int(), float(), str() and float(), then its known as Explicit type casting.\n",
    "11. What is the purpose of conditional statements in Python?\n",
    "  - The purpose of conditional statements in Python is to control the flow of program based on conditions.\n",
    "12. How does the elif statement work?\n",
    "  - elif statement is the another condition after the first if when the previous condition is false.\n",
    "  - if():\n",
    "        statement()\n",
    "    -elif():\n",
    "        statement()\n",
    "    -else:\n",
    "        statement()\n",
    "13. What is the difference between for and while loops?\n",
    "  - for: when we know the exact number of iteration\n",
    "  -while: when the loop should continue based on a condition\n",
    "\n",
    "14. Describe a scenario where a while loop is more suitable than a for loop?\n",
    "   - We use while loop when we dont know how many iteration or loop the statement will require.\n",
    "   \n"
   ]
  },
  {
   "cell_type": "code",
   "execution_count": 1,
   "metadata": {
    "colab": {
     "base_uri": "https://localhost:8080/"
    },
    "id": "IRsRg3g9IpV8",
    "outputId": "e1d8bcbd-0412-4f8b-829f-e346e5fd5d5c"
   },
   "outputs": [
    {
     "name": "stdout",
     "output_type": "stream",
     "text": [
      "Hello, World!\n"
     ]
    }
   ],
   "source": [
    "# Q1. Write a Python program to print \"Hello, World!\n",
    "print('Hello, World!')"
   ]
  },
  {
   "cell_type": "code",
   "execution_count": 3,
   "metadata": {
    "colab": {
     "base_uri": "https://localhost:8080/"
    },
    "id": "we7BQCVMIsK3",
    "outputId": "e8b5c801-89ac-4e16-c899-745a473f84a2"
   },
   "outputs": [
    {
     "name": "stdout",
     "output_type": "stream",
     "text": [
      "My name is: Sonu and age is: 26\n"
     ]
    }
   ],
   "source": [
    "# Q2. Write a Python program that displays your name and age.\n",
    "name='Sonu'\n",
    "age=26\n",
    "print('My name is:', name, 'and age is:',age)"
   ]
  },
  {
   "cell_type": "code",
   "execution_count": 4,
   "metadata": {
    "colab": {
     "base_uri": "https://localhost:8080/"
    },
    "id": "i1HQCUeTImQR",
    "outputId": "bb40f406-ae6a-4fe1-da4c-d7e5d1e90824"
   },
   "outputs": [
    {
     "name": "stdout",
     "output_type": "stream",
     "text": [
      "['False', 'None', 'True', 'and', 'as', 'assert', 'async', 'await', 'break', 'class', 'continue', 'def', 'del', 'elif', 'else', 'except', 'finally', 'for', 'from', 'global', 'if', 'import', 'in', 'is', 'lambda', 'nonlocal', 'not', 'or', 'pass', 'raise', 'return', 'try', 'while', 'with', 'yield']\n"
     ]
    }
   ],
   "source": [
    "# Q3. Write code to print all the pre-defined keywords in Python using the keyword library.\n",
    "import keyword\n",
    "print(keyword.kwlist)"
   ]
  },
  {
   "cell_type": "code",
   "execution_count": 5,
   "metadata": {
    "colab": {
     "base_uri": "https://localhost:8080/"
    },
    "id": "kiEo1JEALucY",
    "outputId": "d8f690f4-d04f-40b5-ca86-766009840090"
   },
   "outputs": [
    {
     "name": "stdout",
     "output_type": "stream",
     "text": [
      "Enter the word:else\n",
      "Yes given word is keyword:  else\n"
     ]
    }
   ],
   "source": [
    "# Q4. Write a program that checks if a given word is a Python keyword.\n",
    "import keyword\n",
    "word=input('Enter the word:')\n",
    "if keyword.iskeyword(word):\n",
    "  print('Yes given word is keyword: ',word)\n",
    "else:\n",
    "  print('No, given word is not keyword: ',word)"
   ]
  },
  {
   "cell_type": "code",
   "execution_count": 6,
   "metadata": {
    "colab": {
     "base_uri": "https://localhost:8080/"
    },
    "id": "0SLbcAhHMVRO",
    "outputId": "3cb1db4c-997c-498d-c497-6fa7c3a790aa"
   },
   "outputs": [
    {
     "name": "stdout",
     "output_type": "stream",
     "text": [
      "After chans in l: [10, 2, 3]\n",
      "Error:  'tuple' object does not support item assignment\n"
     ]
    }
   ],
   "source": [
    "# Q5. Create a list and tuple in Python, and demonstrate how attempting to change an element works differently for each\n",
    "l=[1,2,3]\n",
    "l[0]=10\n",
    "print(\"After chans in l:\",l)\n",
    "\n",
    "t=(1,2,3)\n",
    "try:\n",
    "  t[0]=10\n",
    "except TypeError as e:\n",
    "    print(\"Error: \",e)"
   ]
  },
  {
   "cell_type": "code",
   "execution_count": 8,
   "metadata": {
    "colab": {
     "base_uri": "https://localhost:8080/"
    },
    "id": "KWcKTOlUMVPg",
    "outputId": "ffde5c10-121d-466c-fedb-774c749c5f27"
   },
   "outputs": [
    {
     "name": "stdout",
     "output_type": "stream",
     "text": [
      "Modify list:  [1, 2, 3, 100]\n",
      "Original number: 10\n",
      "Return number: 100\n"
     ]
    }
   ],
   "source": [
    "# Q6. Write a function to demonstrate the behavior of mutable and immutable arguments.\n",
    "def ml(lst):\n",
    "  lst.append(100)\n",
    "\n",
    "def mn(num):\n",
    "  num=num+100\n",
    "  return 100\n",
    "\n",
    "mylist=[1,2,3]\n",
    "ml(mylist)\n",
    "print(\"Modify list: \",mylist)\n",
    "\n",
    "nnum=10\n",
    "newnum=mn(nnum)\n",
    "print(\"Original number:\",nnum)\n",
    "print(\"Return number:\", newnum)\n"
   ]
  },
  {
   "cell_type": "code",
   "execution_count": 9,
   "metadata": {
    "colab": {
     "base_uri": "https://localhost:8080/"
    },
    "id": "5iQ4VEy1Nj6p",
    "outputId": "2d7e1975-f951-4ade-bd97-5aa3ffcdeccd"
   },
   "outputs": [
    {
     "name": "stdout",
     "output_type": "stream",
     "text": [
      "Enter number 1:5\n",
      "Enter number 2:50\n",
      "Addition:  55.0\n",
      "Substraction:  -45.0\n",
      "Multiplication:  250.0\n",
      "Division:  0.1\n"
     ]
    }
   ],
   "source": [
    "#Q7. Write a program that performs basic arithmetic operations on two user-input numbers\n",
    "num1=float(input('Enter number 1:'))\n",
    "num2=float(input('Enter number 2:'))\n",
    "print('Addition: ',num1+num2)\n",
    "print('Substraction: ',num1-num2)\n",
    "print('Multiplication: ',num1*num2)\n",
    "print('Division: ',num1/num2)"
   ]
  },
  {
   "cell_type": "code",
   "execution_count": 13,
   "metadata": {
    "colab": {
     "base_uri": "https://localhost:8080/"
    },
    "id": "hVnPTA12Rb8D",
    "outputId": "818cb7d2-495c-4c81-ec1e-de9bb9122c00"
   },
   "outputs": [
    {
     "name": "stdout",
     "output_type": "stream",
     "text": [
      "x and y: False\n",
      "x or y: True\n",
      "not x: False\n"
     ]
    }
   ],
   "source": [
    "# Q8. Write a program to demonstrate the use of logical operators\n",
    "x=True\n",
    "y=False\n",
    "print(\"x and y:\", x and y)\n",
    "print(\"x or y:\", x or y)\n",
    "print(\"not x:\", not x)"
   ]
  },
  {
   "cell_type": "code",
   "execution_count": 20,
   "metadata": {
    "colab": {
     "base_uri": "https://localhost:8080/"
    },
    "id": "WjA5VFxKR5Bq",
    "outputId": "2d5cb788-732a-44a6-d9b6-2c325b33c14a"
   },
   "outputs": [
    {
     "name": "stdout",
     "output_type": "stream",
     "text": [
      "Enter any string: 4\n",
      "Interger is: 4\n",
      "Float is: 4.0\n",
      "Boolean is: True\n"
     ]
    }
   ],
   "source": [
    "# Q9. Write a Python program to convert user input from string to integer, float, and boolean types\n",
    "user_input=input(\"Enter any string: \")\n",
    "print(\"Interger is:\",int(user_input))\n",
    "print(\"Float is:\",float(user_input))\n",
    "print(\"Boolean is:\",bool(user_input))"
   ]
  },
  {
   "cell_type": "code",
   "execution_count": 21,
   "metadata": {
    "colab": {
     "base_uri": "https://localhost:8080/"
    },
    "id": "Qg653u1nS6L9",
    "outputId": "7bc8132a-633b-4c9d-cb3a-b51bb217f719"
   },
   "outputs": [
    {
     "name": "stdout",
     "output_type": "stream",
     "text": [
      "[1, 2, 3]\n"
     ]
    }
   ],
   "source": [
    "# Q10. Write code to demonstrate type casting with list elements\n",
    "lst=['1','2','3']\n",
    "int_lst=[int(i) for i in lst]\n",
    "print(int_lst)"
   ]
  },
  {
   "cell_type": "code",
   "execution_count": 24,
   "metadata": {
    "colab": {
     "base_uri": "https://localhost:8080/"
    },
    "id": "iyabb05PTPn9",
    "outputId": "c3a35018-8316-4951-f293-23cc59512073"
   },
   "outputs": [
    {
     "name": "stdout",
     "output_type": "stream",
     "text": [
      "Enter any number:5\n",
      "Number is positive: \n"
     ]
    }
   ],
   "source": [
    "# Q11. Write a program that checks if a number is positive, negative, or zero.\n",
    "num=float(input(\"Enter any number:\"))\n",
    "if num == 0:\n",
    "  print(\"Number is zero\")\n",
    "elif num >0:\n",
    "  print(\"Number is positive: \")\n",
    "else:\n",
    "  print(\"Number is negative\")"
   ]
  },
  {
   "cell_type": "code",
   "execution_count": 26,
   "metadata": {
    "colab": {
     "base_uri": "https://localhost:8080/"
    },
    "id": "2U3LSwpKTt5Z",
    "outputId": "39519c85-60cf-4c11-d1c9-52447e3ce04f"
   },
   "outputs": [
    {
     "name": "stdout",
     "output_type": "stream",
     "text": [
      "1\n",
      "2\n",
      "3\n",
      "4\n",
      "5\n",
      "6\n",
      "7\n",
      "8\n",
      "9\n",
      "10\n"
     ]
    }
   ],
   "source": [
    "# Q12. Write a for loop to print numbers from 1 to 10.\n",
    "for i in range (1,10+1):\n",
    "  print(i)"
   ]
  },
  {
   "cell_type": "code",
   "execution_count": 29,
   "metadata": {
    "colab": {
     "base_uri": "https://localhost:8080/"
    },
    "id": "B4SazjHaVeu-",
    "outputId": "db6ba9b5-8fe9-4102-a7c8-c4cb4c7007c2"
   },
   "outputs": [
    {
     "name": "stdout",
     "output_type": "stream",
     "text": [
      "Sum os all even number is:  650\n"
     ]
    }
   ],
   "source": [
    "# Q13. Write a Python program to find the sum of all even numbers between 1 and 50\n",
    "total=0\n",
    "for i in range (1, 51):\n",
    "  if i%2==0:\n",
    "    total=total+i\n",
    "\n",
    "print(\"Sum os all even number is: \",total)\n"
   ]
  },
  {
   "cell_type": "code",
   "execution_count": 32,
   "metadata": {
    "colab": {
     "base_uri": "https://localhost:8080/"
    },
    "id": "dgE0g_IqWPAe",
    "outputId": "31afd87e-10bb-4e18-97f5-aae56b48ab92"
   },
   "outputs": [
    {
     "name": "stdout",
     "output_type": "stream",
     "text": [
      "Enter a string: mantu\n",
      "Reversed string: utnam\n"
     ]
    }
   ],
   "source": [
    "# Q14. Write a program to reverse a string using a while loop\n",
    "user_string = input(\"Enter a string: \")\n",
    "reversed_string = \"\"\n",
    "index = len(user_string) - 1\n",
    "\n",
    "while index >= 0:\n",
    "    reversed_string =reversed_string+ user_string[index]\n",
    "    index =index- 1\n",
    "\n",
    "print(\"Reversed string:\", reversed_string)\n",
    "\n"
   ]
  },
  {
   "cell_type": "code",
   "execution_count": 34,
   "metadata": {
    "colab": {
     "base_uri": "https://localhost:8080/"
    },
    "id": "c8_RDJOHWzW0",
    "outputId": "145849f3-a844-467f-b30a-9d3e6a30f006"
   },
   "outputs": [
    {
     "name": "stdout",
     "output_type": "stream",
     "text": [
      "Enter a number: 10\n",
      "Factorial of 10 is 3628800\n"
     ]
    }
   ],
   "source": [
    "# Q15. Write a Python program to calculate the factorial of a number provided by the user using a while loop\n",
    "num = int(input(\"Enter a number: \"))\n",
    "factorial = 1\n",
    "i = 1\n",
    "\n",
    "while i <= num:\n",
    "    factorial *= i\n",
    "    i += 1\n",
    "\n",
    "print(\"Factorial of\", num, \"is\", factorial)\n"
   ]
  }
 ],
 "metadata": {
  "colab": {
   "provenance": []
  },
  "kernelspec": {
   "display_name": "Python 3 (ipykernel)",
   "language": "python",
   "name": "python3"
  },
  "language_info": {
   "codemirror_mode": {
    "name": "ipython",
    "version": 3
   },
   "file_extension": ".py",
   "mimetype": "text/x-python",
   "name": "python",
   "nbconvert_exporter": "python",
   "pygments_lexer": "ipython3",
   "version": "3.12.7"
  }
 },
 "nbformat": 4,
 "nbformat_minor": 4
}
